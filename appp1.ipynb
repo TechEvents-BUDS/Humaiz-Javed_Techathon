{
  "cells": [
    {
      "cell_type": "markdown",
      "metadata": {
        "id": "view-in-github",
        "colab_type": "text"
      },
      "source": [
        "<a href=\"https://colab.research.google.com/github/TechEvents-BUDS/Humaiz-Javed_Techathon/blob/main/appp1.ipynb\" target=\"_parent\"><img src=\"https://colab.research.google.com/assets/colab-badge.svg\" alt=\"Open In Colab\"/></a>"
      ]
    },
    {
      "cell_type": "code",
      "source": [
        "# Import the Python SDK\n",
        "import google.generativeai as genai\n",
        "# Used to securely store your API key\n",
        "from google.colab import userdata\n",
        "\n",
        "GOOGLE_API_KEY=userdata.get('GOOGLE_API_KEY')\n",
        "genai.configure(api_key=GOOGLE_API_KEY)"
      ],
      "metadata": {
        "id": "Y6nc_FKlRQJc"
      },
      "execution_count": 20,
      "outputs": []
    },
    {
      "cell_type": "code",
      "source": [
        "model = genai.GenerativeModel('gemini-pro')"
      ],
      "metadata": {
        "id": "T5_D_c2XLphQ"
      },
      "execution_count": 21,
      "outputs": []
    },
    {
      "cell_type": "code",
      "source": [
        "import streamlit as st\n",
        "import google.generativeai as genai\n",
        "from google.colab import userdata\n",
        "\n",
        "# Set up the page layout\n",
        "st.set_page_config(\n",
        "    page_title=\"Disease Detection AI\",\n",
        "    layout=\"wide\",\n",
        "    initial_sidebar_state=\"expanded\",\n",
        ")\n",
        "\n",
        "# Configure Gemini API (Handled by Colab key system)\n",
        "GOOGLE_API_KEY = userdata.get('GOOGLE_API_KEY')\n",
        "genai.configure(api_key=GOOGLE_API_KEY)\n",
        "\n",
        "# Initialize the Generative Model\n",
        "model = genai.GenerativeModel('gemini-pro')\n",
        "\n",
        "# App Header\n",
        "st.title(\"Disease Detection AI Dashboard\")\n",
        "st.write(\"Chat with the AI to analyze symptoms, get recommendations, and maintain health records.\")\n",
        "\n",
        "# Sidebar for navigation\n",
        "st.sidebar.title(\"Navigation\")\n",
        "page = st.sidebar.radio(\n",
        "    \"Go to:\",\n",
        "    (\"Chat with AI\", \"Upload Records\", \"View Recommendations\", \"Settings\"),\n",
        ")\n",
        "\n",
        "# Chat with AI\n",
        "if page == \"Chat with AI\":\n",
        "    st.subheader(\"Chat with AI\")\n",
        "    st.write(\"Describe your symptoms, and let AI provide a diagnosis and recommendations.\")\n",
        "\n",
        "    chat_history = st.session_state.get(\"chat_history\", [])\n",
        "    user_input = st.text_input(\"Your Message:\", placeholder=\"e.g., I have a headache and fever\")\n",
        "\n",
        "    if st.button(\"Send\"):\n",
        "        if user_input.strip():\n",
        "            # Store user input in chat history\n",
        "            chat_history.append({\"role\": \"user\", \"content\": user_input})\n",
        "\n",
        "            # Format the prompt for the Gemini model\n",
        "            prompt = f\"Diagnose the disease based on these symptoms: {user_input}.\"\n",
        "\n",
        "            try:\n",
        "                # Generate diagnosis using the Gemini model\n",
        "                response = model.generate_content(prompt)\n",
        "                ai_response = response.text  # Extract response text\n",
        "\n",
        "                chat_history.append({\"role\": \"ai\", \"content\": ai_response})\n",
        "            except Exception as e:\n",
        "                chat_history.append({\"role\": \"ai\", \"content\": f\"Error: {str(e)}\"})\n",
        "\n",
        "            # Update session state\n",
        "            st.session_state[\"chat_history\"] = chat_history\n",
        "        else:\n",
        "            st.warning(\"Please enter your message.\")\n",
        "\n",
        "    # Display chat history\n",
        "    for message in chat_history:\n",
        "        if message[\"role\"] == \"user\":\n",
        "            st.markdown(f\"**You:** {message['content']}\")\n",
        "        else:\n",
        "            st.markdown(f\"**AI:** {message['content']}\")\n",
        "\n",
        "# Upload Records\n",
        "elif page == \"Upload Records\":\n",
        "    st.subheader(\"Upload Health Records\")\n",
        "    uploaded_file = st.file_uploader(\"Choose a file\", type=[\"png\", \"jpg\", \"pdf\", \"csv\"])\n",
        "    if uploaded_file is not None:\n",
        "        st.success(\"File uploaded successfully!\")\n",
        "        st.write(\"File processing is not implemented yet.\")\n",
        "\n",
        "# View Recommendations\n",
        "elif page == \"View Recommendations\":\n",
        "    st.subheader(\"View Past Recommendations\")\n",
        "    st.write(\"This section will display your previous interactions and recommendations.\")\n",
        "\n",
        "# Settings\n",
        "elif page == \"Settings\":\n",
        "    st.subheader(\"Settings\")\n",
        "    st.write(\"Customize your preferences here.\")\n"
      ],
      "metadata": {
        "colab": {
          "base_uri": "https://localhost:8080/"
        },
        "id": "PTeYGmi9L5_v",
        "outputId": "c5efea0b-ab96-4bdb-9aa5-afac90f4d93c"
      },
      "execution_count": 22,
      "outputs": [
        {
          "output_type": "stream",
          "name": "stderr",
          "text": [
            "2024-12-18 10:17:03.151 Thread 'MainThread': missing ScriptRunContext! This warning can be ignored when running in bare mode.\n",
            "2024-12-18 10:17:04.646 Thread 'MainThread': missing ScriptRunContext! This warning can be ignored when running in bare mode.\n",
            "2024-12-18 10:17:04.647 Thread 'MainThread': missing ScriptRunContext! This warning can be ignored when running in bare mode.\n",
            "2024-12-18 10:17:04.650 Thread 'MainThread': missing ScriptRunContext! This warning can be ignored when running in bare mode.\n",
            "2024-12-18 10:17:04.652 Thread 'MainThread': missing ScriptRunContext! This warning can be ignored when running in bare mode.\n",
            "2024-12-18 10:17:04.653 Thread 'MainThread': missing ScriptRunContext! This warning can be ignored when running in bare mode.\n",
            "2024-12-18 10:17:04.655 Thread 'MainThread': missing ScriptRunContext! This warning can be ignored when running in bare mode.\n",
            "2024-12-18 10:17:04.657 Thread 'MainThread': missing ScriptRunContext! This warning can be ignored when running in bare mode.\n",
            "2024-12-18 10:17:04.659 Thread 'MainThread': missing ScriptRunContext! This warning can be ignored when running in bare mode.\n",
            "2024-12-18 10:17:04.661 Thread 'MainThread': missing ScriptRunContext! This warning can be ignored when running in bare mode.\n",
            "2024-12-18 10:17:04.662 Thread 'MainThread': missing ScriptRunContext! This warning can be ignored when running in bare mode.\n",
            "2024-12-18 10:17:04.664 Thread 'MainThread': missing ScriptRunContext! This warning can be ignored when running in bare mode.\n",
            "2024-12-18 10:17:04.665 Thread 'MainThread': missing ScriptRunContext! This warning can be ignored when running in bare mode.\n",
            "2024-12-18 10:17:04.667 Thread 'MainThread': missing ScriptRunContext! This warning can be ignored when running in bare mode.\n",
            "2024-12-18 10:17:04.669 Thread 'MainThread': missing ScriptRunContext! This warning can be ignored when running in bare mode.\n",
            "2024-12-18 10:17:04.671 Thread 'MainThread': missing ScriptRunContext! This warning can be ignored when running in bare mode.\n",
            "2024-12-18 10:17:04.673 Thread 'MainThread': missing ScriptRunContext! This warning can be ignored when running in bare mode.\n",
            "2024-12-18 10:17:04.674 Thread 'MainThread': missing ScriptRunContext! This warning can be ignored when running in bare mode.\n",
            "2024-12-18 10:17:04.676 Thread 'MainThread': missing ScriptRunContext! This warning can be ignored when running in bare mode.\n",
            "2024-12-18 10:17:04.677 Thread 'MainThread': missing ScriptRunContext! This warning can be ignored when running in bare mode.\n",
            "2024-12-18 10:17:04.679 Thread 'MainThread': missing ScriptRunContext! This warning can be ignored when running in bare mode.\n",
            "2024-12-18 10:17:04.680 Thread 'MainThread': missing ScriptRunContext! This warning can be ignored when running in bare mode.\n",
            "2024-12-18 10:17:04.681 Thread 'MainThread': missing ScriptRunContext! This warning can be ignored when running in bare mode.\n",
            "2024-12-18 10:17:04.683 Thread 'MainThread': missing ScriptRunContext! This warning can be ignored when running in bare mode.\n",
            "2024-12-18 10:17:04.684 Thread 'MainThread': missing ScriptRunContext! This warning can be ignored when running in bare mode.\n",
            "2024-12-18 10:17:04.685 Thread 'MainThread': missing ScriptRunContext! This warning can be ignored when running in bare mode.\n",
            "2024-12-18 10:17:04.687 Thread 'MainThread': missing ScriptRunContext! This warning can be ignored when running in bare mode.\n",
            "2024-12-18 10:17:04.688 Thread 'MainThread': missing ScriptRunContext! This warning can be ignored when running in bare mode.\n",
            "2024-12-18 10:17:04.690 Thread 'MainThread': missing ScriptRunContext! This warning can be ignored when running in bare mode.\n",
            "2024-12-18 10:17:04.691 Thread 'MainThread': missing ScriptRunContext! This warning can be ignored when running in bare mode.\n",
            "2024-12-18 10:17:04.693 Thread 'MainThread': missing ScriptRunContext! This warning can be ignored when running in bare mode.\n",
            "2024-12-18 10:17:04.694 Thread 'MainThread': missing ScriptRunContext! This warning can be ignored when running in bare mode.\n",
            "2024-12-18 10:17:04.695 Thread 'MainThread': missing ScriptRunContext! This warning can be ignored when running in bare mode.\n"
          ]
        }
      ]
    },
    {
      "cell_type": "code",
      "source": [
        "# Wait for user input to provide symptoms\n",
        "symptoms_input = input(\"Enter your symptoms (comma-separated): \")\n",
        "\n",
        "# Format the prompt to ask Gemini model to diagnose based on symptoms\n",
        "prompt = f\"Diagnose the disease based on these symptoms: {symptoms_input}.\"\n",
        "\n",
        "# Use the model to generate a diagnosis and recommendations based on the symptoms\n",
        "response = model.generate_content(prompt)\n",
        "\n",
        "# Print the generated content (disease diagnosis and recommendations)\n",
        "print(response.text)\n"
      ],
      "metadata": {
        "colab": {
          "base_uri": "https://localhost:8080/",
          "height": 92
        },
        "id": "ZQbjX7klMRGd",
        "outputId": "a0957aee-5f50-48fd-a8ad-102467f79540"
      },
      "execution_count": 23,
      "outputs": [
        {
          "name": "stdout",
          "output_type": "stream",
          "text": [
            "Enter your symptoms (comma-separated): flu\n"
          ]
        },
        {
          "output_type": "stream",
          "name": "stderr",
          "text": [
            "2024-12-18 10:19:57.537 200 POST /v1beta/models/gemini-pro:generateContent?%24alt=json%3Benum-encoding%3Dint (127.0.0.1) 2983.17ms\n"
          ]
        },
        {
          "output_type": "stream",
          "name": "stdout",
          "text": [
            "Influenza\n"
          ]
        }
      ]
    }
  ],
  "metadata": {
    "colab": {
      "provenance": [],
      "authorship_tag": "ABX9TyO+efdq4XypGeRRMzUgNzdd",
      "include_colab_link": true
    },
    "kernelspec": {
      "display_name": "Python 3",
      "name": "python3"
    },
    "language_info": {
      "name": "python"
    }
  },
  "nbformat": 4,
  "nbformat_minor": 0
}