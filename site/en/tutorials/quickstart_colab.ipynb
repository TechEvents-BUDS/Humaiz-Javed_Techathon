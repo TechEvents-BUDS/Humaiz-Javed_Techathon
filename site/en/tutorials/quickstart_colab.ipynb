{
  "cells": [
    {
      "cell_type": "markdown",
      "metadata": {
        "id": "Tce3stUlHN0L"
      },
      "source": [
        "##### Copyright 2024 Google LLC."
      ]
    },
    {
      "cell_type": "code",
      "execution_count": null,
      "metadata": {
        "cellView": "form",
        "id": "tuOe1ymfHZPu"
      },
      "outputs": [],
      "source": [
        "#@title Licensed under the Apache License, Version 2.0 (the \"License\");\n",
        "# you may not use this file except in compliance with the License.\n",
        "# You may obtain a copy of the License at\n",
        "#\n",
        "# https://www.apache.org/licenses/LICENSE-2.0\n",
        "#\n",
        "# Unless required by applicable law or agreed to in writing, software\n",
        "# distributed under the License is distributed on an \"AS IS\" BASIS,\n",
        "# WITHOUT WARRANTIES OR CONDITIONS OF ANY KIND, either express or implied.\n",
        "# See the License for the specific language governing permissions and\n",
        "# limitations under the License."
      ]
    },
    {
      "cell_type": "markdown",
      "metadata": {
        "id": "-QhPWE1lwZHH"
      },
      "source": [
        "# Gemini API Python quickstart"
      ]
    },
    {
      "cell_type": "markdown",
      "metadata": {
        "id": "fa7c47ae6451"
      },
      "source": [
        "<table class=\"tfo-notebook-buttons\" align=\"left\">\n",
        "  <td>\n",
        "    <a target=\"_blank\" href=\"https://ai.google.dev/tutorials/quickstart_colab\"><img src=\"https://ai.google.dev/static/site-assets/images/docs/notebook-site-button.png\" height=\"32\" width=\"32\" />View on Google AI</a>\n",
        "  </td>\n",
        "  <td>\n",
        "    <a target=\"_blank\" href=\"https://colab.research.google.com/github/google/generative-ai-docs/blob/main/site/en/tutorials/quickstart_colab.ipynb\"><img src=\"https://www.tensorflow.org/images/colab_logo_32px.png\" />Run in Google Colab</a>\n",
        "  </td>\n",
        "  <td>\n",
        "    <a target=\"_blank\" href=\"https://github.com/google/generative-ai-docs/blob/main/site/en/tutorials/quickstart_colab.ipynb\"><img src=\"https://www.tensorflow.org/images/GitHub-Mark-32px.png\" />View source on GitHub</a>\n",
        "  </td>\n",
        "</table>"
      ]
    },
    {
      "cell_type": "markdown",
      "metadata": {
        "id": "db29b8d4247e"
      },
      "source": [
        "This tutorial shows you how to get started with the Gemini API using the Python SDK."
      ]
    },
    {
      "cell_type": "markdown",
      "metadata": {
        "id": "NNNg43Ymw54e"
      },
      "source": [
        "## Prerequisites\n",
        "\n",
        "You can run this tutorial in Google Colab, which doesn't require additional environment configuration.\n",
        "\n",
        "Alternatively, to complete this quickstart locally, see the Python guidance in [Get started with the Gemini API](https://ai.google.dev/tutorials/quickstart)."
      ]
    },
    {
      "cell_type": "markdown",
      "metadata": {
        "id": "kHkHARdb1ZID"
      },
      "source": [
        "## Install the SDK\n",
        "\n",
        "The Python SDK for the Gemini API is contained in the [`google-generativeai`](https://pypi.org/project/google-generativeai/) package. Install the dependency using pip:"
      ]
    },
    {
      "cell_type": "code",
      "execution_count": 1,
      "metadata": {
        "id": "J6Pd9SFJ1yVi"
      },
      "outputs": [],
      "source": [
        "!pip install -q -U google-generativeai"
      ]
    },
    {
      "cell_type": "markdown",
      "metadata": {
        "id": "EeMCtmx9ykyx"
      },
      "source": [
        "## Set up your API key\n",
        "\n",
        "To use the Gemini API, you'll need an API key. If you don't already have one, create a key in Google AI Studio.\n",
        "\n",
        "<a class=\"button\" href=\"https://aistudio.google.com/app/apikey\" target=\"_blank\" rel=\"noopener noreferrer\">Get an API key</a>\n",
        "\n",
        "In Colab, add the key to the secrets manager under the \"🔑\" in the left panel. Give it the name `GOOGLE_API_KEY`. Then pass the key to the SDK:"
      ]
    },
    {
      "cell_type": "code",
      "execution_count": 3,
      "metadata": {
        "id": "HTiaTu6O1LRC"
      },
      "outputs": [],
      "source": [
        "# Import the Python SDK\n",
        "import google.generativeai as genai\n",
        "# Used to securely store your API key\n",
        "from google.colab import userdata\n",
        "\n",
        "GOOGLE_API_KEY=userdata.get('GOOGLE_API_KEY')\n",
        "genai.configure(api_key=GOOGLE_API_KEY)"
      ]
    },
    {
      "cell_type": "markdown",
      "metadata": {
        "id": "CZPYk29o2No0"
      },
      "source": [
        "## Initialize the Generative Model\n",
        "\n",
        "Before you can make any API calls, you need to initialize the Generative Model."
      ]
    },
    {
      "cell_type": "code",
      "execution_count": 4,
      "metadata": {
        "id": "s-JqXcDe2hZ_"
      },
      "outputs": [],
      "source": [
        "model = genai.GenerativeModel('gemini-pro')"
      ]
    },
    {
      "cell_type": "markdown",
      "metadata": {
        "id": "nXxypzJH4MUl"
      },
      "source": [
        "## Generate text"
      ]
    },
    {
      "cell_type": "code",
      "execution_count": 22,
      "metadata": {
        "id": "j51mcrLD4Y2W",
        "outputId": "7c4666a6-85f7-4dc5-8af4-6b2d375a2f42",
        "colab": {
          "base_uri": "https://localhost:8080/",
          "height": 393
        }
      },
      "outputs": [
        {
          "name": "stdout",
          "output_type": "stream",
          "text": [
            "Welcome to the Disease Diagnostic AI\n",
            "Enter your symptoms (comma-separated): flu\n"
          ]
        },
        {
          "output_type": "error",
          "ename": "AttributeError",
          "evalue": "module 'google.generativeai' has no attribute 'generate'",
          "traceback": [
            "\u001b[0;31m---------------------------------------------------------------------------\u001b[0m",
            "\u001b[0;31mAttributeError\u001b[0m                            Traceback (most recent call last)",
            "\u001b[0;32m<ipython-input-22-c1b7dc804e3c>\u001b[0m in \u001b[0;36m<cell line: 87>\u001b[0;34m()\u001b[0m\n\u001b[1;32m     85\u001b[0m \u001b[0;34m\u001b[0m\u001b[0m\n\u001b[1;32m     86\u001b[0m \u001b[0;31m# Run the app\u001b[0m\u001b[0;34m\u001b[0m\u001b[0;34m\u001b[0m\u001b[0m\n\u001b[0;32m---> 87\u001b[0;31m \u001b[0mrun_app\u001b[0m\u001b[0;34m(\u001b[0m\u001b[0;34m)\u001b[0m\u001b[0;34m\u001b[0m\u001b[0;34m\u001b[0m\u001b[0m\n\u001b[0m",
            "\u001b[0;32m<ipython-input-22-c1b7dc804e3c>\u001b[0m in \u001b[0;36mrun_app\u001b[0;34m()\u001b[0m\n\u001b[1;32m     67\u001b[0m \u001b[0;34m\u001b[0m\u001b[0m\n\u001b[1;32m     68\u001b[0m     \u001b[0;31m# Get disease diagnosis from Gemini model\u001b[0m\u001b[0;34m\u001b[0m\u001b[0;34m\u001b[0m\u001b[0m\n\u001b[0;32m---> 69\u001b[0;31m     \u001b[0mdiagnosis\u001b[0m \u001b[0;34m=\u001b[0m \u001b[0mget_diagnosis\u001b[0m\u001b[0;34m(\u001b[0m\u001b[0msymptoms\u001b[0m\u001b[0;34m)\u001b[0m\u001b[0;34m\u001b[0m\u001b[0;34m\u001b[0m\u001b[0m\n\u001b[0m\u001b[1;32m     70\u001b[0m \u001b[0;34m\u001b[0m\u001b[0m\n\u001b[1;32m     71\u001b[0m     \u001b[0;31m# Get recommendations based on diagnosis\u001b[0m\u001b[0;34m\u001b[0m\u001b[0;34m\u001b[0m\u001b[0m\n",
            "\u001b[0;32m<ipython-input-22-c1b7dc804e3c>\u001b[0m in \u001b[0;36mget_diagnosis\u001b[0;34m(symptoms)\u001b[0m\n\u001b[1;32m     13\u001b[0m     \u001b[0;31m# Use the Gemini model to generate a diagnosis based on symptoms\u001b[0m\u001b[0;34m\u001b[0m\u001b[0;34m\u001b[0m\u001b[0m\n\u001b[1;32m     14\u001b[0m     \u001b[0mprompt\u001b[0m \u001b[0;34m=\u001b[0m \u001b[0;34mf\"Diagnose the disease based on these symptoms: {', '.join(symptoms)}.\"\u001b[0m\u001b[0;34m\u001b[0m\u001b[0;34m\u001b[0m\u001b[0m\n\u001b[0;32m---> 15\u001b[0;31m     \u001b[0mresponse\u001b[0m \u001b[0;34m=\u001b[0m \u001b[0mgenai\u001b[0m\u001b[0;34m.\u001b[0m\u001b[0mgenerate\u001b[0m\u001b[0;34m(\u001b[0m\u001b[0mprompt\u001b[0m\u001b[0;34m=\u001b[0m\u001b[0mprompt\u001b[0m\u001b[0;34m)\u001b[0m\u001b[0;34m\u001b[0m\u001b[0;34m\u001b[0m\u001b[0m\n\u001b[0m\u001b[1;32m     16\u001b[0m \u001b[0;34m\u001b[0m\u001b[0m\n\u001b[1;32m     17\u001b[0m     \u001b[0;31m# Extract diagnosis result from model's response\u001b[0m\u001b[0;34m\u001b[0m\u001b[0;34m\u001b[0m\u001b[0m\n",
            "\u001b[0;31mAttributeError\u001b[0m: module 'google.generativeai' has no attribute 'generate'"
          ]
        }
      ],
      "source": [
        "import json\n",
        "import csv\n",
        "from datetime import datetime\n",
        "import google.generativeai as genai\n",
        "from google.colab import userdata\n",
        "\n",
        "# Configure the Gemini model with your API key\n",
        "GOOGLE_API_KEY = userdata.get('GOOGLE_API_KEY')\n",
        "genai.configure(api_key=GOOGLE_API_KEY)\n",
        "\n",
        "# Function to prompt user for symptoms and get disease diagnosis using Gemini model\n",
        "def get_diagnosis(symptoms):\n",
        "    # Use the Gemini model to generate a diagnosis based on symptoms\n",
        "    prompt = f\"Diagnose the disease based on these symptoms: {', '.join(symptoms)}.\"\n",
        "    response = genai.generate(prompt=prompt)\n",
        "\n",
        "    # Extract diagnosis result from model's response\n",
        "    diagnosis = response['content']\n",
        "\n",
        "    # Returning the content of the response\n",
        "    return diagnosis\n",
        "\n",
        "# Function to recommend actions based on the diagnosis\n",
        "def get_recommendations(diagnosis):\n",
        "    # Sample recommendations based on disease (can be expanded with real data)\n",
        "    recommendations = {\n",
        "        \"Gaucher's\": \"Consult with a hematologist for enzyme replacement therapy.\",\n",
        "        \"ALS\": \"Consider a multidisciplinary approach, including physical therapy and breathing support.\"\n",
        "    }\n",
        "\n",
        "    # Return a recommendation based on the diagnosis\n",
        "    return recommendations.get(diagnosis, \"Visit a healthcare professional for further evaluation.\")\n",
        "\n",
        "# Function to maintain patient records\n",
        "def save_record(symptoms, diagnosis, recommendations):\n",
        "    # Create record entry\n",
        "    record = {\n",
        "        \"timestamp\": datetime.now().strftime(\"%Y-%m-%d %H:%M:%S\"),\n",
        "        \"symptoms\": symptoms,\n",
        "        \"diagnosis\": diagnosis,\n",
        "        \"recommendations\": recommendations\n",
        "    }\n",
        "\n",
        "    # Save to CSV or JSON (example using CSV)\n",
        "    with open(\"patient_records.csv\", mode=\"a\", newline=\"\") as file:\n",
        "        writer = csv.DictWriter(file, fieldnames=record.keys())\n",
        "        writer.writerow(record)\n",
        "\n",
        "# Function to upload and evaluate existing patient records\n",
        "def upload_and_evaluate_records(record_file):\n",
        "    with open(record_file, 'r') as file:\n",
        "        records = csv.DictReader(file)\n",
        "        for record in records:\n",
        "            symptoms = record['symptoms']\n",
        "            diagnosis = get_diagnosis(symptoms)\n",
        "            recommendations = get_recommendations(diagnosis)\n",
        "            print(f\"Record evaluated: {record['timestamp']}\")\n",
        "            print(f\"Diagnosis: {record['diagnosis']}\")\n",
        "            print(f\"Recommendations: {recommendations}\")\n",
        "\n",
        "# Main function to run the app\n",
        "def run_app():\n",
        "    print(\"Welcome to the Disease Diagnostic AI\")\n",
        "\n",
        "    # Collect symptoms from the user\n",
        "    symptoms = input(\"Enter your symptoms (comma-separated): \").split(\",\")\n",
        "\n",
        "    # Get disease diagnosis from Gemini model\n",
        "    diagnosis = get_diagnosis(symptoms)\n",
        "\n",
        "    # Get recommendations based on diagnosis\n",
        "    recommendations = get_recommendations(diagnosis)\n",
        "\n",
        "    # Display diagnosis and recommendations\n",
        "    print(f\"Diagnosis: {diagnosis}\")\n",
        "    print(f\"Recommendations: {recommendations}\")\n",
        "\n",
        "    # Save the record\n",
        "    save_record(symptoms, diagnosis, recommendations)\n",
        "\n",
        "    # Optionally, upload and evaluate previous records\n",
        "    upload_choice = input(\"Do you want to upload and evaluate previous records? (y/n): \")\n",
        "    if upload_choice.lower() == 'y':\n",
        "        upload_and_evaluate_records(\"patient_records.csv\")\n",
        "\n",
        "# Run the app\n",
        "run_app()\n"
      ]
    },
    {
      "cell_type": "markdown",
      "metadata": {
        "id": "zUUAQS9u4biH"
      },
      "source": [
        "## What's next\n",
        "\n",
        "To learn more about working with the Gemini API, see the [Python tutorial](https://ai.google.dev/tutorials/python_quickstart).\n",
        "\n",
        "If you're new to generative AI models, you might want to look at the\n",
        "[concepts guide](https://ai.google.dev/docs/concepts) and the\n",
        "[Gemini API overview](https://ai.google.dev/docs/gemini_api_overview)."
      ]
    }
  ],
  "metadata": {
    "colab": {
      "name": "quickstart_colab.ipynb",
      "provenance": []
    },
    "kernelspec": {
      "display_name": "Python 3",
      "name": "python3"
    }
  },
  "nbformat": 4,
  "nbformat_minor": 0
}